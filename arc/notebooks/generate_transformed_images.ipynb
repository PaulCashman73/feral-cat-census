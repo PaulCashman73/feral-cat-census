{
  "nbformat": 4,
  "nbformat_minor": 0,
  "metadata": {
    "colab": {
      "provenance": [],
      "authorship_tag": "ABX9TyObHWk0Uz2xPWRglWn2ECne",
      "include_colab_link": true
    },
    "kernelspec": {
      "name": "python3",
      "display_name": "Python 3"
    },
    "language_info": {
      "name": "python"
    }
  },
  "cells": [
    {
      "cell_type": "markdown",
      "metadata": {
        "id": "view-in-github",
        "colab_type": "text"
      },
      "source": [
        "<a href=\"https://colab.research.google.com/github/pcashman21/feral-cat-census/blob/main/arc/notebooks/generate_transformed_images.ipynb\" target=\"_parent\"><img src=\"https://colab.research.google.com/assets/colab-badge.svg\" alt=\"Open In Colab\"/></a>"
      ]
    },
    {
      "cell_type": "code",
      "source": [],
      "metadata": {
        "id": "PCkqfsLwsCkg"
      },
      "execution_count": null,
      "outputs": []
    },
    {
      "cell_type": "markdown",
      "source": [
        "This notebook uses Tensorflow data augmentation to generate N transforms of each image in a directory.  The notebook creates a DataFrame with the following columns:\n",
        "\n",
        "1.   **filename**: Name of file without path information, in the form imgXXX.jpg\n",
        "2.   **label**: Label denoting which group this image belongs to.  Each cat and its transforms are a separate group.\n",
        "\n",
        "For more information see https://www.tensorflow.org/tutorials/images/data_augmentation."
      ],
      "metadata": {
        "id": "G1d9Q6tJb0lo"
      }
    },
    {
      "cell_type": "code",
      "execution_count": 5,
      "metadata": {
        "id": "9oF9TX8RPmwy"
      },
      "outputs": [],
      "source": [
        "import os\n",
        "import sys\n",
        "import matplotlib.pyplot as plt\n",
        "import pandas as pd\n",
        "import tensorflow as tf\n",
        "from tensorflow.keras import layers"
      ]
    },
    {
      "cell_type": "code",
      "source": [
        "from google.colab import drive\n",
        "drive.mount('/content/gdrive')"
      ],
      "metadata": {
        "colab": {
          "base_uri": "https://localhost:8080/"
        },
        "id": "DDFc2fw2aPM2",
        "outputId": "07190325-c053-4a3b-9d0c-aae8bab8840a"
      },
      "execution_count": 6,
      "outputs": [
        {
          "output_type": "stream",
          "name": "stdout",
          "text": [
            "Mounted at /content/gdrive\n"
          ]
        }
      ]
    },
    {
      "cell_type": "code",
      "source": [
        "def transform_one_image(row, path_to_read, path_to_write, transformer, number_of_transforms):\n",
        "    \"\"\"\n",
        "    This function takes in an image and creates a number of transforms of the image.\n",
        "\n",
        "    row: row of dataframe with image name and usability\n",
        "    path_to_read: path to folder of images\n",
        "    path_to_write: path to folder to save transformed images\n",
        "    transformer: image transformer object\n",
        "    number_of_transforms: number of transforms to create\n",
        "    Returns:\n",
        "        dataframe with transformed images\n",
        "    \"\"\"\n",
        "\n",
        "    image_file = row['filename']\n",
        "    image_label = row['label']\n",
        "    image_file_path = os.path.join(path_to_read,image_file)\n",
        "    image = plt.imread(image_file_path)\n",
        "    image_file_name = image_file.split('.')[0]\n",
        "    image_file_extension = image_file.split('.')[1]\n",
        "    image_file_name_transformed_root = image_file_name + '_transformed_'\n",
        "    df_transform = pd.DataFrame({'filename':[], 'label': []})\n",
        "\n",
        "    for i in range(number_of_transforms):\n",
        "      # Generate name of transformed file\n",
        "      image_file_name_transformed = image_file_name_transformed_root + str(i) + '.' + image_file_extension\n",
        "      image_file_path_transformed = os.path.join(path_to_write, image_file_name_transformed)\n",
        "      # Transform the image\n",
        "      image_transformed = transformer(image)\n",
        "      # Convert tensor to numpy array and save\n",
        "      plt.imsave(image_file_path_transformed,image_transformed.numpy())\n",
        "      gen_df = pd.DataFrame({'filename':[image_file_name_transformed], 'label': [image_label]})\n",
        "      df_transform = pd.concat([df_transform, gen_df], axis=0, ignore_index=True)\n",
        "    return df_transform"
      ],
      "metadata": {
        "id": "WZ8W9IVSQaeF"
      },
      "execution_count": 19,
      "outputs": []
    },
    {
      "cell_type": "code",
      "source": [
        "def get_image_files(path_to_read):\n",
        "    \"\"\"\n",
        "    This function reads all image files in a folder and returns a list of file names.\n",
        "\n",
        "    path_to_read: path to folder of images\n",
        "    \"\"\"\n",
        "\n",
        "    image_files = []\n",
        "    with os.scandir(path_to_read) as files:\n",
        "      for file in files:\n",
        "        last_component = file.name.split('.')[-1]\n",
        "        if last_component == 'jpg' or last_component == 'jpeg':\n",
        "          image_files.append(file.name)\n",
        "    return image_files"
      ],
      "metadata": {
        "id": "Oc3HpJLgyIdI"
      },
      "execution_count": 8,
      "outputs": []
    },
    {
      "cell_type": "code",
      "source": [
        "def extract_label(image_file):\n",
        "    \"\"\"\n",
        "    This function extracts the label from the image file name.\n",
        "    The filenames are of the form 'imgXXX.jpg' where XXX is the label.\n",
        "\n",
        "    image_file: name of image file\n",
        "    \"\"\"\n",
        "\n",
        "    label = image_file.split('.')[0][3:]\n",
        "    return label"
      ],
      "metadata": {
        "id": "ZrAbTY7kzFPP"
      },
      "execution_count": 9,
      "outputs": []
    },
    {
      "cell_type": "code",
      "source": [
        "def transform_images_folder(path_to_read, path_to_write, transformer, number_of_transforms):\n",
        "    \"\"\"\n",
        "    This function reads all image files in a folder, creates a number of\n",
        "    transforms of each image, and saves the transforms to a folder.\n",
        "\n",
        "    path_to_read: path to folder of images\n",
        "    path_to_write: path to folder to save transformed images\n",
        "    transformer: image transformer object\n",
        "    number_of_transforms: number of transforms to create\n",
        "\n",
        "    Returns:\n",
        "        updated dataframe with transformed images\n",
        "    \"\"\"\n",
        "\n",
        "    image_files = get_image_files(path_to_read)\n",
        "    df = pd.DataFrame({'filename':image_files, 'label': [extract_label(filename) for filename in image_files]})\n",
        "\n",
        "    # Since transform_one_image returns a dataframe with multiple rows, we can't\n",
        "    # use a lambda to iterate, as 'apply' will try to stuff the result in the row\n",
        "    # which is the lambda argument.\n",
        "    for i in range(len(df)):\n",
        "      df_transformed = transform_one_image(df.iloc[i], path_to_read, path_to_write, transformer, number_of_transforms)\n",
        "      df = pd.concat([df, df_transformed], axis=0, ignore_index=True)\n",
        "    return df"
      ],
      "metadata": {
        "id": "2CI3fDT9QcVp"
      },
      "execution_count": 20,
      "outputs": []
    },
    {
      "cell_type": "code",
      "source": [
        "IMG_SIZE = 244\n",
        "NUMBER_OF_TRANSFORMS = 50"
      ],
      "metadata": {
        "id": "-u1SdCEkQhfs"
      },
      "execution_count": 11,
      "outputs": []
    },
    {
      "cell_type": "code",
      "source": [
        "PATH_TO_READ = '/content/cat-face'\n",
        "PATH_TO_WRITE = '/content/cat-face-transformed'\n",
        "!mkdir $PATH_TO_WRITE\n"
      ],
      "metadata": {
        "id": "TQYi8xxUT4zi"
      },
      "execution_count": 22,
      "outputs": []
    },
    {
      "cell_type": "code",
      "source": [
        "import zipfile\n",
        "zip_archive = zipfile.ZipFile(PATH_TO_READ + '.zip', 'r')\n",
        "zip_archive.extractall('/content')\n",
        "zip_archive.close()\n"
      ],
      "metadata": {
        "id": "hZEw-kJl_t2P"
      },
      "execution_count": 15,
      "outputs": []
    },
    {
      "cell_type": "code",
      "source": [
        "# Resize the input image, rescale the pixel values, and perform a series of transforms\n",
        "transformer_nn = tf.keras.Sequential([\n",
        "        layers.Resizing(IMG_SIZE, IMG_SIZE),\n",
        "        layers.Rescaling(1./255),\n",
        "        layers.RandomFlip(\"horizontal_and_vertical\"),\n",
        "        layers.RandomRotation(0.2),\n",
        "        layers.RandomTranslation(0.3, 0.3),\n",
        "        layers.RandomZoom(0.2)\n",
        "    ])"
      ],
      "metadata": {
        "id": "8IO2n0yPWksh"
      },
      "execution_count": 16,
      "outputs": []
    },
    {
      "cell_type": "code",
      "source": [
        "# Run the transform on all images\n",
        "df = transform_images_folder(PATH_TO_READ, PATH_TO_WRITE, transformer_nn, NUMBER_OF_TRANSFORMS)\n",
        "df.head()"
      ],
      "metadata": {
        "colab": {
          "base_uri": "https://localhost:8080/",
          "height": 206
        },
        "id": "V1NNDcO1W845",
        "outputId": "84b1af49-2f2f-4427-912d-5828f20495ff"
      },
      "execution_count": 23,
      "outputs": [
        {
          "output_type": "execute_result",
          "data": {
            "text/plain": [
              "    filename label\n",
              "0  img91.jpg    91\n",
              "1  img60.jpg    60\n",
              "2  img51.jpg    51\n",
              "3  img11.jpg    11\n",
              "4   img5.jpg     5"
            ],
            "text/html": [
              "\n",
              "  <div id=\"df-6af5d237-f9da-4b92-944e-144c7a47ace7\" class=\"colab-df-container\">\n",
              "    <div>\n",
              "<style scoped>\n",
              "    .dataframe tbody tr th:only-of-type {\n",
              "        vertical-align: middle;\n",
              "    }\n",
              "\n",
              "    .dataframe tbody tr th {\n",
              "        vertical-align: top;\n",
              "    }\n",
              "\n",
              "    .dataframe thead th {\n",
              "        text-align: right;\n",
              "    }\n",
              "</style>\n",
              "<table border=\"1\" class=\"dataframe\">\n",
              "  <thead>\n",
              "    <tr style=\"text-align: right;\">\n",
              "      <th></th>\n",
              "      <th>filename</th>\n",
              "      <th>label</th>\n",
              "    </tr>\n",
              "  </thead>\n",
              "  <tbody>\n",
              "    <tr>\n",
              "      <th>0</th>\n",
              "      <td>img91.jpg</td>\n",
              "      <td>91</td>\n",
              "    </tr>\n",
              "    <tr>\n",
              "      <th>1</th>\n",
              "      <td>img60.jpg</td>\n",
              "      <td>60</td>\n",
              "    </tr>\n",
              "    <tr>\n",
              "      <th>2</th>\n",
              "      <td>img51.jpg</td>\n",
              "      <td>51</td>\n",
              "    </tr>\n",
              "    <tr>\n",
              "      <th>3</th>\n",
              "      <td>img11.jpg</td>\n",
              "      <td>11</td>\n",
              "    </tr>\n",
              "    <tr>\n",
              "      <th>4</th>\n",
              "      <td>img5.jpg</td>\n",
              "      <td>5</td>\n",
              "    </tr>\n",
              "  </tbody>\n",
              "</table>\n",
              "</div>\n",
              "    <div class=\"colab-df-buttons\">\n",
              "\n",
              "  <div class=\"colab-df-container\">\n",
              "    <button class=\"colab-df-convert\" onclick=\"convertToInteractive('df-6af5d237-f9da-4b92-944e-144c7a47ace7')\"\n",
              "            title=\"Convert this dataframe to an interactive table.\"\n",
              "            style=\"display:none;\">\n",
              "\n",
              "  <svg xmlns=\"http://www.w3.org/2000/svg\" height=\"24px\" viewBox=\"0 -960 960 960\">\n",
              "    <path d=\"M120-120v-720h720v720H120Zm60-500h600v-160H180v160Zm220 220h160v-160H400v160Zm0 220h160v-160H400v160ZM180-400h160v-160H180v160Zm440 0h160v-160H620v160ZM180-180h160v-160H180v160Zm440 0h160v-160H620v160Z\"/>\n",
              "  </svg>\n",
              "    </button>\n",
              "\n",
              "  <style>\n",
              "    .colab-df-container {\n",
              "      display:flex;\n",
              "      gap: 12px;\n",
              "    }\n",
              "\n",
              "    .colab-df-convert {\n",
              "      background-color: #E8F0FE;\n",
              "      border: none;\n",
              "      border-radius: 50%;\n",
              "      cursor: pointer;\n",
              "      display: none;\n",
              "      fill: #1967D2;\n",
              "      height: 32px;\n",
              "      padding: 0 0 0 0;\n",
              "      width: 32px;\n",
              "    }\n",
              "\n",
              "    .colab-df-convert:hover {\n",
              "      background-color: #E2EBFA;\n",
              "      box-shadow: 0px 1px 2px rgba(60, 64, 67, 0.3), 0px 1px 3px 1px rgba(60, 64, 67, 0.15);\n",
              "      fill: #174EA6;\n",
              "    }\n",
              "\n",
              "    .colab-df-buttons div {\n",
              "      margin-bottom: 4px;\n",
              "    }\n",
              "\n",
              "    [theme=dark] .colab-df-convert {\n",
              "      background-color: #3B4455;\n",
              "      fill: #D2E3FC;\n",
              "    }\n",
              "\n",
              "    [theme=dark] .colab-df-convert:hover {\n",
              "      background-color: #434B5C;\n",
              "      box-shadow: 0px 1px 3px 1px rgba(0, 0, 0, 0.15);\n",
              "      filter: drop-shadow(0px 1px 2px rgba(0, 0, 0, 0.3));\n",
              "      fill: #FFFFFF;\n",
              "    }\n",
              "  </style>\n",
              "\n",
              "    <script>\n",
              "      const buttonEl =\n",
              "        document.querySelector('#df-6af5d237-f9da-4b92-944e-144c7a47ace7 button.colab-df-convert');\n",
              "      buttonEl.style.display =\n",
              "        google.colab.kernel.accessAllowed ? 'block' : 'none';\n",
              "\n",
              "      async function convertToInteractive(key) {\n",
              "        const element = document.querySelector('#df-6af5d237-f9da-4b92-944e-144c7a47ace7');\n",
              "        const dataTable =\n",
              "          await google.colab.kernel.invokeFunction('convertToInteractive',\n",
              "                                                    [key], {});\n",
              "        if (!dataTable) return;\n",
              "\n",
              "        const docLinkHtml = 'Like what you see? Visit the ' +\n",
              "          '<a target=\"_blank\" href=https://colab.research.google.com/notebooks/data_table.ipynb>data table notebook</a>'\n",
              "          + ' to learn more about interactive tables.';\n",
              "        element.innerHTML = '';\n",
              "        dataTable['output_type'] = 'display_data';\n",
              "        await google.colab.output.renderOutput(dataTable, element);\n",
              "        const docLink = document.createElement('div');\n",
              "        docLink.innerHTML = docLinkHtml;\n",
              "        element.appendChild(docLink);\n",
              "      }\n",
              "    </script>\n",
              "  </div>\n",
              "\n",
              "\n",
              "<div id=\"df-790ad45d-f417-4845-aedd-285065253176\">\n",
              "  <button class=\"colab-df-quickchart\" onclick=\"quickchart('df-790ad45d-f417-4845-aedd-285065253176')\"\n",
              "            title=\"Suggest charts.\"\n",
              "            style=\"display:none;\">\n",
              "\n",
              "<svg xmlns=\"http://www.w3.org/2000/svg\" height=\"24px\"viewBox=\"0 0 24 24\"\n",
              "     width=\"24px\">\n",
              "    <g>\n",
              "        <path d=\"M19 3H5c-1.1 0-2 .9-2 2v14c0 1.1.9 2 2 2h14c1.1 0 2-.9 2-2V5c0-1.1-.9-2-2-2zM9 17H7v-7h2v7zm4 0h-2V7h2v10zm4 0h-2v-4h2v4z\"/>\n",
              "    </g>\n",
              "</svg>\n",
              "  </button>\n",
              "\n",
              "<style>\n",
              "  .colab-df-quickchart {\n",
              "      --bg-color: #E8F0FE;\n",
              "      --fill-color: #1967D2;\n",
              "      --hover-bg-color: #E2EBFA;\n",
              "      --hover-fill-color: #174EA6;\n",
              "      --disabled-fill-color: #AAA;\n",
              "      --disabled-bg-color: #DDD;\n",
              "  }\n",
              "\n",
              "  [theme=dark] .colab-df-quickchart {\n",
              "      --bg-color: #3B4455;\n",
              "      --fill-color: #D2E3FC;\n",
              "      --hover-bg-color: #434B5C;\n",
              "      --hover-fill-color: #FFFFFF;\n",
              "      --disabled-bg-color: #3B4455;\n",
              "      --disabled-fill-color: #666;\n",
              "  }\n",
              "\n",
              "  .colab-df-quickchart {\n",
              "    background-color: var(--bg-color);\n",
              "    border: none;\n",
              "    border-radius: 50%;\n",
              "    cursor: pointer;\n",
              "    display: none;\n",
              "    fill: var(--fill-color);\n",
              "    height: 32px;\n",
              "    padding: 0;\n",
              "    width: 32px;\n",
              "  }\n",
              "\n",
              "  .colab-df-quickchart:hover {\n",
              "    background-color: var(--hover-bg-color);\n",
              "    box-shadow: 0 1px 2px rgba(60, 64, 67, 0.3), 0 1px 3px 1px rgba(60, 64, 67, 0.15);\n",
              "    fill: var(--button-hover-fill-color);\n",
              "  }\n",
              "\n",
              "  .colab-df-quickchart-complete:disabled,\n",
              "  .colab-df-quickchart-complete:disabled:hover {\n",
              "    background-color: var(--disabled-bg-color);\n",
              "    fill: var(--disabled-fill-color);\n",
              "    box-shadow: none;\n",
              "  }\n",
              "\n",
              "  .colab-df-spinner {\n",
              "    border: 2px solid var(--fill-color);\n",
              "    border-color: transparent;\n",
              "    border-bottom-color: var(--fill-color);\n",
              "    animation:\n",
              "      spin 1s steps(1) infinite;\n",
              "  }\n",
              "\n",
              "  @keyframes spin {\n",
              "    0% {\n",
              "      border-color: transparent;\n",
              "      border-bottom-color: var(--fill-color);\n",
              "      border-left-color: var(--fill-color);\n",
              "    }\n",
              "    20% {\n",
              "      border-color: transparent;\n",
              "      border-left-color: var(--fill-color);\n",
              "      border-top-color: var(--fill-color);\n",
              "    }\n",
              "    30% {\n",
              "      border-color: transparent;\n",
              "      border-left-color: var(--fill-color);\n",
              "      border-top-color: var(--fill-color);\n",
              "      border-right-color: var(--fill-color);\n",
              "    }\n",
              "    40% {\n",
              "      border-color: transparent;\n",
              "      border-right-color: var(--fill-color);\n",
              "      border-top-color: var(--fill-color);\n",
              "    }\n",
              "    60% {\n",
              "      border-color: transparent;\n",
              "      border-right-color: var(--fill-color);\n",
              "    }\n",
              "    80% {\n",
              "      border-color: transparent;\n",
              "      border-right-color: var(--fill-color);\n",
              "      border-bottom-color: var(--fill-color);\n",
              "    }\n",
              "    90% {\n",
              "      border-color: transparent;\n",
              "      border-bottom-color: var(--fill-color);\n",
              "    }\n",
              "  }\n",
              "</style>\n",
              "\n",
              "  <script>\n",
              "    async function quickchart(key) {\n",
              "      const quickchartButtonEl =\n",
              "        document.querySelector('#' + key + ' button');\n",
              "      quickchartButtonEl.disabled = true;  // To prevent multiple clicks.\n",
              "      quickchartButtonEl.classList.add('colab-df-spinner');\n",
              "      try {\n",
              "        const charts = await google.colab.kernel.invokeFunction(\n",
              "            'suggestCharts', [key], {});\n",
              "      } catch (error) {\n",
              "        console.error('Error during call to suggestCharts:', error);\n",
              "      }\n",
              "      quickchartButtonEl.classList.remove('colab-df-spinner');\n",
              "      quickchartButtonEl.classList.add('colab-df-quickchart-complete');\n",
              "    }\n",
              "    (() => {\n",
              "      let quickchartButtonEl =\n",
              "        document.querySelector('#df-790ad45d-f417-4845-aedd-285065253176 button');\n",
              "      quickchartButtonEl.style.display =\n",
              "        google.colab.kernel.accessAllowed ? 'block' : 'none';\n",
              "    })();\n",
              "  </script>\n",
              "</div>\n",
              "\n",
              "    </div>\n",
              "  </div>\n"
            ]
          },
          "metadata": {},
          "execution_count": 23
        }
      ]
    },
    {
      "cell_type": "code",
      "source": [
        "!zip -r /content/cat-face-transformed.zip /content/cat-face-transformed/*.jpg\n",
        "\n"
      ],
      "metadata": {
        "id": "TpB8k4vFDiJ5"
      },
      "execution_count": null,
      "outputs": []
    },
    {
      "cell_type": "code",
      "source": [
        "df.to_csv(PATH_TO_WRITE + '.csv', index=False)\n",
        "\n"
      ],
      "metadata": {
        "id": "LM3nrYbcH1Kh"
      },
      "execution_count": 38,
      "outputs": []
    }
  ]
}