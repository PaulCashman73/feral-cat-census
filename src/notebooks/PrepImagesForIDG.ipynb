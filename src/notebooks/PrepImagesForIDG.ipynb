{
  "nbformat": 4,
  "nbformat_minor": 0,
  "metadata": {
    "colab": {
      "provenance": [],
      "authorship_tag": "ABX9TyNj0DzBCa2zBw7SwpQktzlZ",
      "include_colab_link": true
    },
    "kernelspec": {
      "name": "python3",
      "display_name": "Python 3"
    },
    "language_info": {
      "name": "python"
    }
  },
  "cells": [
    {
      "cell_type": "markdown",
      "metadata": {
        "id": "view-in-github",
        "colab_type": "text"
      },
      "source": [
        "<a href=\"https://colab.research.google.com/github/pcashman21/feral-cat-census/blob/main/SelectUsableImages.ipynb\" target=\"_parent\"><img src=\"https://colab.research.google.com/assets/colab-badge.svg\" alt=\"Open In Colab\"/></a>"
      ]
    },
    {
      "cell_type": "code",
      "execution_count": 3,
      "metadata": {
        "id": "STgTz0Y5mDCg",
        "colab": {
          "base_uri": "https://localhost:8080/"
        },
        "outputId": "81c8d506-bac0-4aca-d744-5dadd1be1fc5"
      },
      "outputs": [
        {
          "output_type": "stream",
          "name": "stdout",
          "text": [
            "Drive already mounted at /content/gdrive; to attempt to forcibly remount, call drive.mount(\"/content/gdrive\", force_remount=True).\n"
          ]
        }
      ],
      "source": [
        "import pandas as pd\n",
        "from google.colab import drive\n",
        "drive.mount('/content/gdrive')\n",
        "file_path_prefix = '/content/gdrive/My Drive/Cat images/'\n",
        "original_images_dir = file_path_prefix + 'original_images/'"
      ]
    },
    {
      "cell_type": "code",
      "source": [
        "df = pd.read_csv(original_images_dir +'image_index.csv')"
      ],
      "metadata": {
        "id": "UUKByXCKmJ7a"
      },
      "execution_count": 5,
      "outputs": []
    },
    {
      "cell_type": "code",
      "source": [
        "from tensorflow.keras.preprocessing.image import load_img\n",
        "from tensorflow.keras.preprocessing.image import img_to_array\n",
        "from tensorflow.keras.applications.vgg16 import preprocess_input"
      ],
      "metadata": {
        "id": "yjTDx9oVlHpX"
      },
      "execution_count": 9,
      "outputs": []
    },
    {
      "cell_type": "code",
      "source": [
        "from tensorflow.keras.preprocessing.image import save_img"
      ],
      "metadata": {
        "id": "vfKkPZvcOm5S"
      },
      "execution_count": 14,
      "outputs": []
    },
    {
      "cell_type": "code",
      "source": [
        "def resize_image(file, path_to_read, path_to_write):\n",
        "    \"\"\"\n",
        "    Resizes one image in a directory to 224x224 pixels and saves it to a new directory.\n",
        "    file: name of file to resize\n",
        "    path_to_read: path to directory containing file\n",
        "    path_to_write: path to directory to save resized file\n",
        "    \"\"\"\n",
        "    print('Resizing ' + file)\n",
        "    image = load_img(path_to_read + file, target_size=(224, 224))\n",
        "    image = img_to_array(image)\n",
        "    # image = image.reshape((1, image.shape[0], image.shape[1], image.shape[2]))\n",
        "    image = preprocess_input(image)\n",
        "    save_img(path_to_write + file, image)"
      ],
      "metadata": {
        "id": "kYfsnnbyOuD-"
      },
      "execution_count": 18,
      "outputs": []
    },
    {
      "cell_type": "code",
      "source": [
        "resized_images_dir = file_path_prefix + 'resized_images/'"
      ],
      "metadata": {
        "id": "5q6W0PXSO3to"
      },
      "execution_count": 16,
      "outputs": []
    },
    {
      "cell_type": "code",
      "source": [
        "df['file_path'].apply(lambda f: resize_image(f, original_images_dir, resized_images_dir))"
      ],
      "metadata": {
        "id": "SX_XzU49PS9I"
      },
      "execution_count": null,
      "outputs": []
    },
    {
      "cell_type": "code",
      "source": [
        "def move_image(x, path_to_read, path_to_write, train_class_limits, test_class_limits, train_class_counts, test_class_counts):\n",
        "    \"\"\"\n",
        "    Move image from resized_images folder to a folder structure that\n",
        "        can be used by the ImageDataGenerator class.\n",
        "    x: row of dataframe containing the image file name and its class label\n",
        "    path_to_read: path to directory from which to read images\n",
        "    path_to_write: path to directory to save images\n",
        "    train_class_limits: number of images to use for training in each class\n",
        "    test_class_limits: number of images to use for testing in each class\n",
        "    train_class_counts: number of images written to training directory for each class\n",
        "    test_class_counts: number of images written to testing directory for each class\n",
        "    \"\"\"\n",
        "\n",
        "    # Read in image\n",
        "    image = load_img(path_to_read + x['file_path'], target_size=(224, 224))\n",
        "\n",
        "    # Write image to appropriate directory.  Note that the file name is\n",
        "    # sequentially numbered in each class, which is an ImageDataGenerator requirement.\n",
        "    if x['usable'] == 0:\n",
        "        if train_class_counts[0] < train_class_limits[0]:\n",
        "            train_class_counts[0] += 1\n",
        "            save_img(path_to_write + 'train/0/' + str(train_class_counts[0]) + '.jpeg', image)\n",
        "        elif test_class_counts[0] < test_class_limits[0]:\n",
        "            test_class_counts[0] += 1\n",
        "            save_img(path_to_write + 'test/0/' + str(test_class_counts[0]) + '.jpeg', image)\n",
        "\n",
        "    else:\n",
        "        if train_class_counts[1] < train_class_limits[1]:\n",
        "            train_class_counts[1] += 1\n",
        "            save_img(path_to_write + 'train/1/' + str(train_class_counts[1]) + '.jpeg', image)\n",
        "        elif test_class_counts[1] < test_class_limits[1]:\n",
        "            test_class_counts[1] += 1\n",
        "            save_img(path_to_write + 'test/1/' + str(test_class_counts[1]) + '.jpeg', image)\n",
        "\n",
        "\n",
        "def make_folder_for_image_generator(df, path_to_read, path_to_write, train_test_split=0.7):\n",
        "    \"\"\"\n",
        "    Move images from resized_images folder to a folder structure that\n",
        "        can be used by the ImageDataGenerator class.\n",
        "    df: dataframe containing the image file names and their class labels\n",
        "    path_to_read: path to directory from which to read images\n",
        "    path_to_write: path to directory to save images\n",
        "    train_test_split: proportion of images to use for training\n",
        "    \"\"\"\n",
        "\n",
        "    # Count number of images in each class\n",
        "    class_counts = df['usable'].value_counts()\n",
        "    train_class_limits = [int(class_counts[0] * train_test_split), int(class_counts[1] * train_test_split)]\n",
        "    test_class_limits = [class_counts[0] - train_class_limits[0], class_counts[1] - train_class_limits[1]]\n",
        "    train_class_counts = [0,0]\n",
        "    test_class_counts = [0,0]\n",
        "    df[['usable', 'file_path']].apply(lambda x: move_image(x, path_to_read, path_to_write, train_class_limits, test_class_limits, train_class_counts, test_class_counts), axis=1)"
      ],
      "metadata": {
        "id": "ubKuYt0CgP10"
      },
      "execution_count": 28,
      "outputs": []
    },
    {
      "cell_type": "code",
      "source": [
        "path_for_idg = file_path_prefix + 'ImageDataGenerator_images/'\n",
        "make_folder_for_image_generator(df,resized_images_dir, path_for_idg)"
      ],
      "metadata": {
        "id": "ROvhBunngUaw"
      },
      "execution_count": 30,
      "outputs": []
    }
  ]
}