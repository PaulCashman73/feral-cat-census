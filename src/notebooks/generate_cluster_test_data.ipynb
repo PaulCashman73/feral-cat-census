{
  "nbformat": 4,
  "nbformat_minor": 0,
  "metadata": {
    "colab": {
      "provenance": [],
      "authorship_tag": "ABX9TyN2PoITyEHuWus3F6feV6ww",
      "include_colab_link": true
    },
    "kernelspec": {
      "name": "python3",
      "display_name": "Python 3"
    },
    "language_info": {
      "name": "python"
    }
  },
  "cells": [
    {
      "cell_type": "markdown",
      "metadata": {
        "id": "view-in-github",
        "colab_type": "text"
      },
      "source": [
        "<a href=\"https://colab.research.google.com/github/pcashman21/feral-cat-census/blob/main/src/notebooks/generate_cluster_test_data.ipynb\" target=\"_parent\"><img src=\"https://colab.research.google.com/assets/colab-badge.svg\" alt=\"Open In Colab\"/></a>"
      ]
    },
    {
      "cell_type": "code",
      "execution_count": 7,
      "metadata": {
        "id": "j2JuCahg3GSX"
      },
      "outputs": [],
      "source": [
        "import os\n",
        "import pandas as pd\n",
        "import numpy as np\n",
        "import seaborn as sns\n",
        "import matplotlib.pyplot as plt\n",
        "from matplotlib.image import imread\n",
        "import tensorflow as tf\n",
        "from tensorflow.keras import layers\n",
        "from tensorflow.keras.preprocessing.image import ImageDataGenerator"
      ]
    },
    {
      "cell_type": "code",
      "source": [
        "from google.colab import drive\n",
        "drive.mount('/content/gdrive')"
      ],
      "metadata": {
        "colab": {
          "base_uri": "https://localhost:8080/"
        },
        "id": "GEbIndbC3cln",
        "outputId": "66dee893-dd45-479e-ad57-52202846432e"
      },
      "execution_count": 2,
      "outputs": [
        {
          "output_type": "stream",
          "name": "stdout",
          "text": [
            "Mounted at /content/gdrive\n"
          ]
        }
      ]
    },
    {
      "cell_type": "code",
      "source": [
        "# We're going to read raw images, so transform them by normalizing the pixels\n",
        "# and resizing the image as expected by the VGG model.  This will be done\n",
        "# before applying any random transformations to generate test data.\n",
        "transformer_nn = tf.keras.Sequential([\n",
        "        layers.Resizing(244,244),\n",
        "        layers.Rescaling(1./255)])"
      ],
      "metadata": {
        "id": "sIjQib5SEMRI"
      },
      "execution_count": 8,
      "outputs": []
    },
    {
      "cell_type": "code",
      "source": [
        "# The Image Data Generator will be used to transform\n",
        "# images to create test data.\n",
        "image_gen = ImageDataGenerator(rotation_range=20, # rotate the image 20 degrees\n",
        "                               width_shift_range=0.10, # Shift the pic width by a max of 5%\n",
        "                               height_shift_range=0.10, # Shift the pic height by a max of 5%\n",
        "                               rescale=1/255, # Rescale the image by normalzing it.\n",
        "                               shear_range=0.1, # Shear means cutting away part of the image (max 10%)\n",
        "                               zoom_range=0.1, # Zoom in by 10% max\n",
        "                               horizontal_flip=True, # Allo horizontal flipping\n",
        "                               fill_mode='nearest' # Fill in missing pixels with the nearest filled value\n",
        "                              )"
      ],
      "metadata": {
        "id": "Dh-GC72W-0Sy"
      },
      "execution_count": 4,
      "outputs": []
    },
    {
      "cell_type": "code",
      "source": [
        "test_data_path = '/content/gdrive/My Drive/Cat images/cluster_test_data/'\n",
        "case_1_path = test_data_path + 'case_1/'\n",
        "case_2_path = test_data_path + 'case_2/'\n",
        "case_3_path = test_data_path + 'case_3/'\n",
        "case_4_path = test_data_path + 'case_4/'\n",
        "case_5_path = test_data_path + 'case_5/'\n",
        "image_1 = '00000500_001.jpg'\n",
        "image_2 = '00000500_003.jpg'\n",
        "image_3 = '00000500_005.jpg'\n",
        "image_4 = '00000500_008.jpg'\n",
        "image_5 = '00000500_010.jpg'"
      ],
      "metadata": {
        "id": "V3__r3he_OhS"
      },
      "execution_count": 10,
      "outputs": []
    },
    {
      "cell_type": "code",
      "source": [
        "# Case 1: Five images, all different\n",
        "#\n",
        "# The images are present, and need only to be resized and rescaled.\n",
        "case_1_1_image = imread(case_1_path + image_1)\n",
        "case_1_1_image = transformer_nn(case_1_1_image).numpy()\n",
        "plt.imsave(case_1_path + image_1,case_1_1_image)"
      ],
      "metadata": {
        "id": "5oR2PF59C9iM"
      },
      "execution_count": 11,
      "outputs": []
    },
    {
      "cell_type": "code",
      "source": [
        "case_1_2_image = imread(case_1_path + image_2)\n",
        "case_1_2_image = transformer_nn(case_1_2_image).numpy()\n",
        "plt.imsave(case_1_path + image_2,case_1_2_image)\n",
        "case_1_3_image = imread(case_1_path + image_3)\n",
        "case_1_3_image = transformer_nn(case_1_3_image).numpy()\n",
        "plt.imsave(case_1_path + image_3,case_1_3_image)\n",
        "case_1_4_image = imread(case_1_path + image_4)\n",
        "case_1_4_image = transformer_nn(case_1_4_image).numpy()\n",
        "plt.imsave(case_1_path + image_4,case_1_4_image)\n",
        "case_1_5_image = imread(case_1_path + image_5)\n",
        "case_1_5_image = transformer_nn(case_1_5_image).numpy()\n",
        "plt.imsave(case_1_path + image_5,case_1_5_image)"
      ],
      "metadata": {
        "id": "u_uCjAZrG9u4"
      },
      "execution_count": 14,
      "outputs": []
    },
    {
      "cell_type": "code",
      "source": [
        "# Case 2: Five images, all the same cat\n",
        "#\n",
        "# First image needs to be rescaled/resized, then transformed 4 times\n",
        "case_2_1_image = imread(case_2_path + image_1)\n",
        "case_2_1_image = transformer_nn(case_2_1_image).numpy()\n",
        "plt.imsave(case_2_path + image_1,case_2_1_image)\n",
        "# Perform four transforms and save each one\n",
        "for i in range(4):\n",
        "  transformed_image = image_gen.random_transform(case_2_1_image)\n",
        "  plt.imsave(case_2_path + image_1.split('.')[0] + '_' + str(i+1) + '.' + image_1.split('.')[1],transformed_image)"
      ],
      "metadata": {
        "id": "nYnfnGI8HiLE"
      },
      "execution_count": 16,
      "outputs": []
    },
    {
      "cell_type": "code",
      "source": [
        "# Case 3: Ten images, five diffferent cats, 6 images\n",
        "# of first cat, once each of the rest\n",
        "#\n",
        "# Resize/rescale first image, then transform five times\n",
        "case_3_1_image = imread(case_3_path + image_1)\n",
        "case_3_1_image = transformer_nn(case_3_1_image).numpy()\n",
        "plt.imsave(case_3_path + image_1,case_3_1_image)\n",
        "for i in range(5):\n",
        "  transformed_image = image_gen.random_transform(case_3_1_image)\n",
        "  plt.imsave(case_3_path + image_1.split('.')[0] + '_' + str(i+1) + '.' + image_1.split('.')[1],transformed_image)\n",
        "# For remaining images, just resize/rescale\n",
        "case_3_2_image = imread(case_3_path + image_2)\n",
        "case_3_2_image = transformer_nn(case_3_2_image).numpy()\n",
        "plt.imsave(case_3_path + image_2,case_3_2_image)\n",
        "case_3_3_image = imread(case_3_path + image_3)\n",
        "case_3_3_image = transformer_nn(case_3_3_image).numpy()\n",
        "plt.imsave(case_3_path + image_3,case_3_3_image)\n",
        "case_3_4_image = imread(case_3_path + image_4)\n",
        "case_3_4_image = transformer_nn(case_3_4_image).numpy()\n",
        "plt.imsave(case_3_path + image_4,case_3_4_image)\n",
        "case_3_5_image = imread(case_3_path + image_5)\n",
        "case_3_5_image = transformer_nn(case_3_5_image).numpy()\n",
        "plt.imsave(case_3_path + image_5,case_3_5_image)"
      ],
      "metadata": {
        "id": "-t_Vc8BOJavC"
      },
      "execution_count": 17,
      "outputs": []
    },
    {
      "cell_type": "code",
      "source": [
        "# Case 4: Ten images, five diffferent cats, 2 images of each\n",
        "#\n",
        "# Resize/rescale each image, then transform\n",
        "case_4_1_image = imread(case_4_path + image_1)\n",
        "case_4_1_image = transformer_nn(case_4_1_image).numpy()\n",
        "plt.imsave(case_4_path + image_1,case_4_1_image)\n",
        "transformed_image = image_gen.random_transform(case_4_1_image)\n",
        "plt.imsave(case_4_path + image_1.split('.')[0] + '_' + str(i+1) + '.' + image_1.split('.')[1],transformed_image)\n",
        "# For remaining images, just resize/rescale\n",
        "case_4_2_image = imread(case_4_path + image_2)\n",
        "case_4_2_image = transformer_nn(case_4_2_image).numpy()\n",
        "plt.imsave(case_4_path + image_2,case_4_2_image)\n",
        "transformed_image = image_gen.random_transform(case_4_2_image)\n",
        "plt.imsave(case_4_path + image_2.split('.')[0] + '_' + str(i+1) + '.' + image_2.split('.')[1],transformed_image)\n",
        "case_4_3_image = imread(case_4_path + image_3)\n",
        "case_4_3_image = transformer_nn(case_4_3_image).numpy()\n",
        "plt.imsave(case_4_path + image_3,case_4_3_image)\n",
        "transformed_image = image_gen.random_transform(case_4_3_image)\n",
        "plt.imsave(case_4_path + image_3.split('.')[0] + '_' + str(i+1) + '.' + image_3.split('.')[1],transformed_image)\n",
        "case_4_4_image = imread(case_4_path + image_4)\n",
        "case_4_4_image = transformer_nn(case_4_4_image).numpy()\n",
        "plt.imsave(case_4_path + image_4,case_4_4_image)\n",
        "transformed_image = image_gen.random_transform(case_4_4_image)\n",
        "plt.imsave(case_4_path + image_4.split('.')[0] + '_' + str(i+1) + '.' + image_4.split('.')[1],transformed_image)\n",
        "case_4_5_image = imread(case_4_path + image_5)\n",
        "case_4_5_image = transformer_nn(case_4_5_image).numpy()\n",
        "plt.imsave(case_4_path + image_5,case_4_5_image)\n",
        "transformed_image = image_gen.random_transform(case_4_5_image)\n",
        "plt.imsave(case_4_path + image_5.split('.')[0] + '_' + str(i+1) + '.' + image_5.split('.')[1],transformed_image)"
      ],
      "metadata": {
        "id": "foIxiR43Lm_N"
      },
      "execution_count": 18,
      "outputs": []
    },
    {
      "cell_type": "code",
      "source": [
        "# Case 5: Ten images, two diffferent cats, 9 images\n",
        "# of first cat, one of the other\n",
        "#\n",
        "# Resize/rescale first image, then transform eight times\n",
        "case_5_1_image = imread(case_5_path + image_1)\n",
        "case_5_1_image = transformer_nn(case_5_1_image).numpy()\n",
        "plt.imsave(case_5_path + image_1,case_5_1_image)\n",
        "for i in range(8):\n",
        "  transformed_image = image_gen.random_transform(case_5_1_image)\n",
        "  plt.imsave(case_5_path + image_1.split('.')[0] + '_' + str(i+1) + '.' + image_1.split('.')[1],transformed_image)\n",
        "# For remaining image, just resize/rescale\n",
        "case_5_2_image = imread(case_5_path + image_2)\n",
        "case_5_2_image = transformer_nn(case_5_2_image).numpy()\n",
        "plt.imsave(case_5_path + image_2,case_5_2_image)"
      ],
      "metadata": {
        "id": "N10E9ijrNMkb"
      },
      "execution_count": 19,
      "outputs": []
    }
  ]
}