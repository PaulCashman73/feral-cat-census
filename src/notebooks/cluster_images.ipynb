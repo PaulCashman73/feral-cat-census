{
  "nbformat": 4,
  "nbformat_minor": 0,
  "metadata": {
    "colab": {
      "provenance": [],
      "authorship_tag": "ABX9TyNVWeYobvI7VcKUoKsP5r3E",
      "include_colab_link": true
    },
    "kernelspec": {
      "name": "python3",
      "display_name": "Python 3"
    },
    "language_info": {
      "name": "python"
    }
  },
  "cells": [
    {
      "cell_type": "markdown",
      "metadata": {
        "id": "view-in-github",
        "colab_type": "text"
      },
      "source": [
        "<a href=\"https://colab.research.google.com/github/pcashman21/feral-cat-census/blob/main/src/notebooks/cluster_images.ipynb\" target=\"_parent\"><img src=\"https://colab.research.google.com/assets/colab-badge.svg\" alt=\"Open In Colab\"/></a>"
      ]
    },
    {
      "cell_type": "code",
      "execution_count": 2,
      "metadata": {
        "id": "fKmi0fZ1HD2X"
      },
      "outputs": [],
      "source": [
        "# for loading/processing the images\n",
        "from keras.preprocessing.image import load_img\n",
        "from keras.preprocessing.image import img_to_array\n",
        "from keras.applications.vgg16 import preprocess_input\n",
        "\n",
        "# models\n",
        "from keras.applications.vgg16 import VGG16\n",
        "from keras.models import Model\n",
        "\n",
        "# clustering and dimension reduction\n",
        "from sklearn.cluster import KMeans\n",
        "from sklearn.decomposition import PCA\n",
        "\n",
        "# for everything else\n",
        "import os\n",
        "import numpy as np\n",
        "import matplotlib.pyplot as plt\n",
        "from random import randint\n",
        "import pandas as pd\n",
        "import pickle"
      ]
    },
    {
      "cell_type": "code",
      "source": [
        "from google.colab import drive\n",
        "drive.mount('/content/gdrive')"
      ],
      "metadata": {
        "colab": {
          "base_uri": "https://localhost:8080/"
        },
        "id": "bLRz4jz3IMMO",
        "outputId": "da2f70b0-2d62-4118-f34d-0bd9837ba7bd"
      },
      "execution_count": 3,
      "outputs": [
        {
          "output_type": "stream",
          "name": "stdout",
          "text": [
            "Mounted at /content/gdrive\n"
          ]
        }
      ]
    },
    {
      "cell_type": "code",
      "source": [
        "path = '/content/gdrive/My Drive/Cat images/cluster_test_data/'\n",
        "image_1 = '00000500_001.jpg'\n",
        "image_2 = '00000500_003.jpg'\n",
        "image_3 = '00000500_005.jpg'\n",
        "image_4 = '00000500_008.jpg'\n",
        "image_5 = '00000500_010.jpg'"
      ],
      "metadata": {
        "id": "CgA_kVKnI3CQ"
      },
      "execution_count": 4,
      "outputs": []
    },
    {
      "cell_type": "code",
      "source": [
        "test_case_folder = 'case_2/'"
      ],
      "metadata": {
        "id": "0Upkc7RAJD0M"
      },
      "execution_count": 45,
      "outputs": []
    },
    {
      "cell_type": "code",
      "source": [
        "test_case_images = []\n",
        "with os.scandir(path + test_case_folder) as files:\n",
        "  for file in files:\n",
        "    test_case_images.append(file.name)"
      ],
      "metadata": {
        "id": "aRrZV7heOt_D"
      },
      "execution_count": 46,
      "outputs": []
    },
    {
      "cell_type": "code",
      "source": [
        "INPUT_SHAPE = (224,224, 3) ## Pixel size of images, in each of 3 channels\n",
        "IMG_SIZE = INPUT_SHAPE[:2]\n",
        "IMG_SIZE"
      ],
      "metadata": {
        "colab": {
          "base_uri": "https://localhost:8080/"
        },
        "id": "3p56XkckK9eu",
        "outputId": "1c62baa2-44e3-4115-f39f-f771b6d1451f"
      },
      "execution_count": 7,
      "outputs": [
        {
          "output_type": "execute_result",
          "data": {
            "text/plain": [
              "(224, 224)"
            ]
          },
          "metadata": {},
          "execution_count": 7
        }
      ]
    },
    {
      "cell_type": "code",
      "source": [
        "# load model\n",
        "model = VGG16()\n",
        "# remove the output layer\n",
        "model = Model(inputs=model.inputs, outputs=model.layers[-2].output)"
      ],
      "metadata": {
        "colab": {
          "base_uri": "https://localhost:8080/"
        },
        "id": "gFwXchHKKcha",
        "outputId": "f437814d-020c-4dd8-bf70-6941ba8c6649"
      },
      "execution_count": 8,
      "outputs": [
        {
          "output_type": "stream",
          "name": "stdout",
          "text": [
            "Downloading data from https://storage.googleapis.com/tensorflow/keras-applications/vgg16/vgg16_weights_tf_dim_ordering_tf_kernels.h5\n",
            "553467096/553467096 [==============================] - 6s 0us/step\n"
          ]
        }
      ]
    },
    {
      "cell_type": "code",
      "source": [
        "def extract_features(file, model, img_size=IMG_SIZE):\n",
        "    # load the image as a 224x224 array\n",
        "    img = load_img(file, target_size=img_size)\n",
        "    # convert from 'PIL.Image.Image' to numpy array\n",
        "    img = np.array(img)\n",
        "    # reshape the data for the model reshape(num_of_samples, dim 1, dim 2, channels)\n",
        "    reshaped_img = np.expand_dims(img, axis=0)\n",
        "    # prepare image for model\n",
        "    imgx = preprocess_input(reshaped_img)\n",
        "    # get the feature vector\n",
        "    features = model.predict(imgx, use_multiprocessing=True)\n",
        "    return features"
      ],
      "metadata": {
        "id": "gM5s6RGqL_I3"
      },
      "execution_count": 14,
      "outputs": []
    },
    {
      "cell_type": "code",
      "source": [
        "# Get all files in a test case folder\n",
        "test_case_folder = 'case_5/'\n",
        "test_case_images = []\n",
        "with os.scandir(path + test_case_folder) as files:\n",
        "  for file in files:\n",
        "    test_case_images.append(file.name)\n",
        "\n",
        "# Extract the features from each test case image\n",
        "data = {}\n",
        "for test_case in test_case_images:\n",
        "  feature = extract_features(path + test_case_folder + test_case, model)\n",
        "  data[test_case] = feature\n",
        "\n",
        "# Get list of filenames\n",
        "filenames = np.array(list(data.keys()))\n",
        "# Get a list of just the features\n",
        "feat = np.array(list(data.values()))\n",
        "feat = feat.reshape(-1,4096)\n",
        "\n",
        "x_values = []\n",
        "y_values = []\n",
        "\n",
        "pca = PCA(n_components=len(filenames), random_state=22)\n",
        "pca.fit(feat)\n",
        "\n",
        "for i in range(len(filenames)):\n",
        "  kmeans = KMeans(n_clusters=i+1, n_init='auto', random_state=22)\n",
        "  #print(f'n_clusters: {i+1}, x.shape: {x.shape}')\n",
        "  x = pca.transform(feat)\n",
        "  kmeans.fit(x)\n",
        "  x = x_values.append(i+1)\n",
        "  y = y_values.append(kmeans.inertia_)\n",
        "plt.plot(x_values, y_values)\n"
      ],
      "metadata": {
        "colab": {
          "base_uri": "https://localhost:8080/",
          "height": 626
        },
        "id": "REiaGkKfGXco",
        "outputId": "9421f3cb-a3a4-4572-e20e-69238381f21c"
      },
      "execution_count": 56,
      "outputs": [
        {
          "output_type": "stream",
          "name": "stdout",
          "text": [
            "1/1 [==============================] - 2s 2s/step\n",
            "1/1 [==============================] - 1s 961ms/step\n",
            "1/1 [==============================] - 1s 1s/step\n",
            "1/1 [==============================] - 1s 1s/step\n",
            "1/1 [==============================] - 1s 734ms/step\n",
            "1/1 [==============================] - 1s 703ms/step\n",
            "1/1 [==============================] - 1s 504ms/step\n",
            "1/1 [==============================] - 1s 834ms/step\n",
            "1/1 [==============================] - 1s 825ms/step\n",
            "1/1 [==============================] - 1s 806ms/step\n"
          ]
        },
        {
          "output_type": "execute_result",
          "data": {
            "text/plain": [
              "[<matplotlib.lines.Line2D at 0x7cdc0934e410>]"
            ]
          },
          "metadata": {},
          "execution_count": 56
        },
        {
          "output_type": "display_data",
          "data": {
            "text/plain": [
              "<Figure size 640x480 with 1 Axes>"
            ],
            "image/png": "[encoded data removed]"
          },
          "metadata": {}
        }
      ]
    }
  ]
}