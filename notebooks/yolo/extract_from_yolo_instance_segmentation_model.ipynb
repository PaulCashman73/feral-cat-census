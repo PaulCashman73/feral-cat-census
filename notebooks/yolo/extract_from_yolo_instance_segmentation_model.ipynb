{
  "nbformat": 4,
  "nbformat_minor": 0,
  "metadata": {
    "colab": {
      "provenance": [],
      "authorship_tag": "ABX9TyO5KTeLn928DZuTE4vM6S03",
      "include_colab_link": true
    },
    "kernelspec": {
      "name": "python3",
      "display_name": "Python 3"
    },
    "language_info": {
      "name": "python"
    }
  },
  "cells": [
    {
      "cell_type": "markdown",
      "metadata": {
        "id": "view-in-github",
        "colab_type": "text"
      },
      "source": [
        "<a href=\"https://colab.research.google.com/github/pcashman21/feral-cat-census/blob/main/notebooks/yolo/extract_from_yolo_instance_segmentation_model.ipynb\" target=\"_parent\"><img src=\"https://colab.research.google.com/assets/colab-badge.svg\" alt=\"Open In Colab\"/></a>"
      ]
    },
    {
      "cell_type": "code",
      "source": [
        "!pip install ultralytics"
      ],
      "metadata": {
        "id": "SDgqCc4K2qr-"
      },
      "execution_count": null,
      "outputs": []
    },
    {
      "cell_type": "code",
      "source": [
        "from google.colab import drive\n",
        "drive.mount('/content/gdrive')"
      ],
      "metadata": {
        "colab": {
          "base_uri": "https://localhost:8080/"
        },
        "id": "dYxqyD1R26xl",
        "outputId": "318bb871-36ae-4f4d-a59f-8f1a663e281e"
      },
      "execution_count": 2,
      "outputs": [
        {
          "output_type": "stream",
          "name": "stdout",
          "text": [
            "Mounted at /content/gdrive\n"
          ]
        }
      ]
    },
    {
      "cell_type": "code",
      "source": [
        "import zipfile\n",
        "!unzip unusable.zip"
      ],
      "metadata": {
        "id": "f4aP_JGhtgTt"
      },
      "execution_count": null,
      "outputs": []
    },
    {
      "cell_type": "code",
      "source": [
        "CONFIDENCE_THRESHOLD = 0.3\n",
        "IOU_THRESHOLD = 0.5\n",
        "PATH_TO_IMAGES = '/content/unusable/*.jpeg'"
      ],
      "metadata": {
        "id": "3079Coa_3q0T"
      },
      "execution_count": 4,
      "outputs": []
    },
    {
      "cell_type": "code",
      "source": [
        "import glob\n",
        "image_paths = []\n",
        "# get all image paths in dataset to process\n",
        "for path in glob.glob(PATH_TO_IMAGES):\n",
        "    image_paths.append(path)\n",
        "# sort image_path\n",
        "image_paths.sort()\n",
        "image_paths"
      ],
      "metadata": {
        "id": "ErorQB__tRU3"
      },
      "execution_count": null,
      "outputs": []
    },
    {
      "cell_type": "code",
      "source": [
        "SEGMENTED_FILES_FOLDER = '/content/unusable-segmented'\n",
        "!mkdir $SEGMENTED_FILES_FOLDER"
      ],
      "metadata": {
        "id": "NKwomOsIve-F"
      },
      "execution_count": 8,
      "outputs": []
    },
    {
      "cell_type": "code",
      "source": [
        "validation_image_path = '/content/gdrive/MyDrive/Cat images/feral-cat-segmentation.v1i.yolov8/valid/images/group0049_jpeg.rf.c646c039e92fa8f3bfd94ec8420953f1.jpg'"
      ],
      "metadata": {
        "id": "iKbcBbFk33J6"
      },
      "execution_count": null,
      "outputs": []
    },
    {
      "cell_type": "code",
      "execution_count": null,
      "metadata": {
        "colab": {
          "base_uri": "https://localhost:8080/"
        },
        "id": "SWozH6tf4jf-",
        "outputId": "b17f8108-3493-49b1-a96e-9a1e86f08e57"
      },
      "outputs": [
        {
          "output_type": "stream",
          "name": "stdout",
          "text": [
            "\n"
          ]
        }
      ],
      "source": [
        "# This code extracts each object from an image using its segmentation mask predicted by the YOLO v8 feral cat segmentation model.\n",
        "# This code was adapted (slightly) from the code in the YOLO v8 documentation, which can be found at\n",
        "# https://docs.ultralytics.com/guides/isolating-segmentation-objects/#recipe-walk-through.  The numbers in parentheses refer to steps\n",
        "# and explanations in that documentation.\n",
        "\n",
        "from pathlib import Path\n",
        "\n",
        "import cv2 as cv\n",
        "import numpy as np\n",
        "from ultralytics import YOLO\n",
        "from PIL import Image\n",
        "\n",
        "trained_model = YOLO('/content/gdrive/MyDrive/Cat images/models/feral-cat-segmentation.v1i.yolov8/200-epochs-/weights/best.pt') #(4)!\n",
        "# validation_image = Image.open(validation_image_path)\n",
        "res = trained_model.predict(image_paths, conf=CONFIDENCE_THRESHOLD, iou=IOU_THRESHOLD) #(3)!\n",
        "\n",
        "# iterate detection results (5)\n",
        "for r in res:\n",
        "    img = np.copy(r.orig_img)\n",
        "    img_name = Path(r.path).stem\n",
        "\n",
        "    # iterate each object contour (6)\n",
        "    for ci,c in enumerate(r):\n",
        "        label = c.names[c.boxes.cls.tolist().pop()]\n",
        "\n",
        "        b_mask = np.zeros(img.shape[:2], np.uint8)\n",
        "\n",
        "        # Create contour mask (1)\n",
        "        contour = c.masks.xy.pop().astype(np.int32).reshape(-1, 1, 2)\n",
        "        _ = cv.drawContours(b_mask, [contour], -1, (255, 255, 255), cv.FILLED)\n",
        "\n",
        "        # Choose one:\n",
        "\n",
        "        # OPTION-1: Isolate object with black background\n",
        "        # mask3ch = cv.cvtColor(b_mask, cv.COLOR_GRAY2BGR)\n",
        "        # isolated = cv.bitwise_and(mask3ch, img)\n",
        "\n",
        "        # OPTION-2: Isolate object with transparent background (when saved as PNG)\n",
        "        isolated = np.dstack([img, b_mask])\n",
        "\n",
        "        # OPTIONAL: detection crop (from either OPT1 or OPT2)\n",
        "        x1, y1, x2, y2 = c.boxes.xyxy.cpu().numpy().squeeze().astype(np.int32)\n",
        "        iso_crop = isolated[y1:y2, x1:x2]\n",
        "\n",
        "        # Save isolated object to file\n",
        "        _ = cv.imwrite(f'{SEGMENTED_FILES_FOLDER}/{img_name}_{label}-{ci}.png', iso_crop)"
      ]
    },
    {
      "cell_type": "code",
      "source": [
        "import glob\n",
        "import matplotlib.image as img\n",
        "import matplotlib.pyplot as plt\n",
        "image_paths = []\n",
        "# get all image paths for extracted masks and display the extracted cat\n",
        "for path in glob.glob('/content/group0049_jpeg.rf.c646c039e92fa8f3bfd94ec8420953f1_cat-*.png'):\n",
        "    image_paths.append(path)\n",
        "image_paths.sort()\n",
        "image_paths\n"
      ],
      "metadata": {
        "colab": {
          "base_uri": "https://localhost:8080/"
        },
        "id": "SciJdfhn7ITB",
        "outputId": "017bb43a-3518-439d-f2ef-364b4b55df50"
      },
      "execution_count": null,
      "outputs": [
        {
          "output_type": "execute_result",
          "data": {
            "text/plain": [
              "['/content/group0049_jpeg.rf.c646c039e92fa8f3bfd94ec8420953f1_cat-0.png',\n",
              " '/content/group0049_jpeg.rf.c646c039e92fa8f3bfd94ec8420953f1_cat-1.png',\n",
              " '/content/group0049_jpeg.rf.c646c039e92fa8f3bfd94ec8420953f1_cat-2.png',\n",
              " '/content/group0049_jpeg.rf.c646c039e92fa8f3bfd94ec8420953f1_cat-3.png',\n",
              " '/content/group0049_jpeg.rf.c646c039e92fa8f3bfd94ec8420953f1_cat-4.png',\n",
              " '/content/group0049_jpeg.rf.c646c039e92fa8f3bfd94ec8420953f1_cat-5.png']"
            ]
          },
          "metadata": {},
          "execution_count": 20
        }
      ]
    },
    {
      "cell_type": "code",
      "source": [
        "#for i in range(len(image_paths)):\n",
        "im = img.imread(image_paths[5])\n",
        "plt.imshow(im)"
      ],
      "metadata": {
        "colab": {
          "base_uri": "https://localhost:8080/",
          "height": 450
        },
        "id": "ySPXp_ve9CLw",
        "outputId": "e6e16622-a9c2-4545-a05a-1f2bc5ec46e2"
      },
      "execution_count": null,
      "outputs": [
        {
          "output_type": "execute_result",
          "data": {
            "text/plain": [
              "<matplotlib.image.AxesImage at 0x7d90f2be7010>"
            ]
          },
          "metadata": {},
          "execution_count": 32
        },
        {
          "output_type": "display_data",
          "data": {
            "text/plain": [
              "<Figure size 640x480 with 1 Axes>"
            ],
            "image/png": "[encoded data removed]"
          },
          "metadata": {}
        }
      ]
    }
  ]
}