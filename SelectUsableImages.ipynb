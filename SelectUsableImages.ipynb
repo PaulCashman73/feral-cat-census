{
  "nbformat": 4,
  "nbformat_minor": 0,
  "metadata": {
    "colab": {
      "provenance": [],
      "gpuType": "T4",
      "authorship_tag": "ABX9TyPNfahRnzpE5XISOOZV46mP",
      "include_colab_link": true
    },
    "kernelspec": {
      "name": "python3",
      "display_name": "Python 3"
    },
    "language_info": {
      "name": "python"
    },
    "accelerator": "GPU"
  },
  "cells": [
    {
      "cell_type": "markdown",
      "metadata": {
        "id": "view-in-github",
        "colab_type": "text"
      },
      "source": [
        "<a href=\"https://colab.research.google.com/github/pcashman21/feral-cat-census/blob/main/SelectUsableImages.ipynb\" target=\"_parent\"><img src=\"https://colab.research.google.com/assets/colab-badge.svg\" alt=\"Open In Colab\"/></a>"
      ]
    },
    {
      "cell_type": "markdown",
      "source": [
        "SelectUsableImages is a ONE-TIME notebook that creates a model to select usable images of cats."
      ],
      "metadata": {
        "id": "vJYv7gQRtPTt"
      }
    },
    {
      "cell_type": "code",
      "execution_count": null,
      "metadata": {
        "id": "b1SI5vultEm8"
      },
      "outputs": [],
      "source": []
    },
    {
      "cell_type": "markdown",
      "source": [
        "Train a VGG16 model pre-trained on the ImageNet set of 14 million images to classify images as either usable or unusable for the feral cat census.  At this time (September 2023), a usable image is one with a single cat.  All other images are deemed unusable.\n",
        "\n",
        "Sources for the code:\n",
        "\"[Transfer Learning with VGG16 and Keras](https://towardsdatascience.com/transfer-learning-with-vgg16-and-keras-50ea161580b4)\" by Gabriel Cassimo"
      ],
      "metadata": {
        "id": "s4aerO8m8v9f"
      }
    },
    {
      "cell_type": "code",
      "source": [
        "from tensorflow.keras.applications.vgg16 import VGG16\n",
        "from tensorflow.keras.applications.vgg16 import preprocess_input"
      ],
      "metadata": {
        "id": "giPBW8OutdVd"
      },
      "execution_count": 1,
      "outputs": []
    },
    {
      "cell_type": "code",
      "source": [
        "input_shape = (224,224, 3) ## Pixel size of images, in each of 3 channels\n",
        "\n",
        "## Loading VGG16 model\n",
        "base_model = VGG16(weights=\"imagenet\", include_top=False, input_shape=input_shape)\n",
        "base_model.trainable = False ## Not trainable weights"
      ],
      "metadata": {
        "colab": {
          "base_uri": "https://localhost:8080/"
        },
        "id": "Y6q4xbeR96bM",
        "outputId": "5f15d2eb-502b-4911-81a8-bb913aa806b3"
      },
      "execution_count": 2,
      "outputs": [
        {
          "output_type": "stream",
          "name": "stdout",
          "text": [
            "Downloading data from https://storage.googleapis.com/tensorflow/keras-applications/vgg16/vgg16_weights_tf_dim_ordering_tf_kernels_notop.h5\n",
            "58889256/58889256 [==============================] - 0s 0us/step\n"
          ]
        }
      ]
    },
    {
      "cell_type": "code",
      "source": [
        "base_model.summary()"
      ],
      "metadata": {
        "colab": {
          "base_uri": "https://localhost:8080/"
        },
        "id": "46fHTUSM-nTL",
        "outputId": "89b6519f-73e1-4a42-8b55-58d415570dad"
      },
      "execution_count": 3,
      "outputs": [
        {
          "output_type": "stream",
          "name": "stdout",
          "text": [
            "Model: \"vgg16\"\n",
            "_________________________________________________________________\n",
            " Layer (type)                Output Shape              Param #   \n",
            "=================================================================\n",
            " input_1 (InputLayer)        [(None, 224, 224, 3)]     0         \n",
            "                                                                 \n",
            " block1_conv1 (Conv2D)       (None, 224, 224, 64)      1792      \n",
            "                                                                 \n",
            " block1_conv2 (Conv2D)       (None, 224, 224, 64)      36928     \n",
            "                                                                 \n",
            " block1_pool (MaxPooling2D)  (None, 112, 112, 64)      0         \n",
            "                                                                 \n",
            " block2_conv1 (Conv2D)       (None, 112, 112, 128)     73856     \n",
            "                                                                 \n",
            " block2_conv2 (Conv2D)       (None, 112, 112, 128)     147584    \n",
            "                                                                 \n",
            " block2_pool (MaxPooling2D)  (None, 56, 56, 128)       0         \n",
            "                                                                 \n",
            " block3_conv1 (Conv2D)       (None, 56, 56, 256)       295168    \n",
            "                                                                 \n",
            " block3_conv2 (Conv2D)       (None, 56, 56, 256)       590080    \n",
            "                                                                 \n",
            " block3_conv3 (Conv2D)       (None, 56, 56, 256)       590080    \n",
            "                                                                 \n",
            " block3_pool (MaxPooling2D)  (None, 28, 28, 256)       0         \n",
            "                                                                 \n",
            " block4_conv1 (Conv2D)       (None, 28, 28, 512)       1180160   \n",
            "                                                                 \n",
            " block4_conv2 (Conv2D)       (None, 28, 28, 512)       2359808   \n",
            "                                                                 \n",
            " block4_conv3 (Conv2D)       (None, 28, 28, 512)       2359808   \n",
            "                                                                 \n",
            " block4_pool (MaxPooling2D)  (None, 14, 14, 512)       0         \n",
            "                                                                 \n",
            " block5_conv1 (Conv2D)       (None, 14, 14, 512)       2359808   \n",
            "                                                                 \n",
            " block5_conv2 (Conv2D)       (None, 14, 14, 512)       2359808   \n",
            "                                                                 \n",
            " block5_conv3 (Conv2D)       (None, 14, 14, 512)       2359808   \n",
            "                                                                 \n",
            " block5_pool (MaxPooling2D)  (None, 7, 7, 512)         0         \n",
            "                                                                 \n",
            "=================================================================\n",
            "Total params: 14,714,688\n",
            "Trainable params: 0\n",
            "Non-trainable params: 14,714,688\n",
            "_________________________________________________________________\n"
          ]
        }
      ]
    },
    {
      "cell_type": "code",
      "source": [
        "from tensorflow.keras import layers, models\n",
        "\n",
        "flatten_layer = layers.Flatten()\n",
        "dense_layer_1 = layers.Dense(128, activation='relu')\n",
        "dense_layer_2 = layers.Dense(64, activation='relu')\n",
        "dense_layer_3 = layers.Dense(16, activation='relu')\n",
        "\n",
        "# Dropouts help reduce overfitting by randomly turning neurons off during training.\n",
        "# Here we say randomly turn off 50% of neurons.\n",
        "dropout_layer = layers.Dropout(0.5)\n",
        "\n",
        "# Last layer, remember its binary so we use sigmoid\n",
        "prediction_layer = layers.Dense(1, activation='sigmoid')\n",
        "\n",
        "\n",
        "model = models.Sequential([\n",
        "    base_model,\n",
        "    flatten_layer,\n",
        "    dense_layer_1,\n",
        "    # dense_layer_2,\n",
        "    dense_layer_3,\n",
        "    dropout_layer,\n",
        "    prediction_layer\n",
        "])\n",
        "\n",
        "model.compile(loss='binary_crossentropy',\n",
        "              optimizer='adam',\n",
        "              metrics=['accuracy'])"
      ],
      "metadata": {
        "id": "pDLzG3Xx-5Ej"
      },
      "execution_count": 41,
      "outputs": []
    },
    {
      "cell_type": "code",
      "source": [
        "model.summary()"
      ],
      "metadata": {
        "colab": {
          "base_uri": "https://localhost:8080/"
        },
        "id": "_vwA-s_ABD2Q",
        "outputId": "2dcd5a89-8537-44c2-d352-1f03144d4021"
      },
      "execution_count": 32,
      "outputs": [
        {
          "output_type": "stream",
          "name": "stdout",
          "text": [
            "Model: \"sequential_3\"\n",
            "_________________________________________________________________\n",
            " Layer (type)                Output Shape              Param #   \n",
            "=================================================================\n",
            " vgg16 (Functional)          (None, 7, 7, 512)         14714688  \n",
            "                                                                 \n",
            " flatten_3 (Flatten)         (None, 25088)             0         \n",
            "                                                                 \n",
            " dense_12 (Dense)            (None, 64)                1605696   \n",
            "                                                                 \n",
            " dense_13 (Dense)            (None, 16)                1040      \n",
            "                                                                 \n",
            " dropout_2 (Dropout)         (None, 16)                0         \n",
            "                                                                 \n",
            " dense_14 (Dense)            (None, 1)                 17        \n",
            "                                                                 \n",
            "=================================================================\n",
            "Total params: 16,321,441\n",
            "Trainable params: 1,606,753\n",
            "Non-trainable params: 14,714,688\n",
            "_________________________________________________________________\n"
          ]
        }
      ]
    },
    {
      "cell_type": "code",
      "execution_count": 8,
      "metadata": {
        "id": "VU4Uyay3ymFp"
      },
      "outputs": [],
      "source": [
        "## Set up ImageDataGenerator to randomly generate small tweaks to the training images.\n",
        "## This improves the robustness of the model and increases the size of the\n",
        "## training data set, which in our case is rather small.\n",
        "\n",
        "from tensorflow.keras.preprocessing.image import ImageDataGenerator\n",
        "\n",
        "image_gen = ImageDataGenerator(rotation_range=20, # rotate the image 20 degrees\n",
        "                               width_shift_range=0.10, # Shift the pic width by a max of 5%\n",
        "                               height_shift_range=0.10, # Shift the pic height by a max of 5%\n",
        "                               rescale=1/255, # Rescale the image by normalzing it.\n",
        "                               shear_range=0.1, # Shear means cutting away part of the image (max 10%)\n",
        "                               zoom_range=0.1, # Zoom in by 10% max\n",
        "                               horizontal_flip=True, # Allo horizontal flipping\n",
        "                               fill_mode='nearest' # Fill in missing pixels with the nearest filled value\n",
        "                              )"
      ]
    },
    {
      "cell_type": "code",
      "source": [
        "## Set up the paths to the training and test data sets.  These are arranged\n",
        "## to be used by the IDG's flow_from_directory method.\n",
        "\n",
        "from google.colab import drive\n",
        "drive.mount('/content/gdrive')\n",
        "file_path = '/content/gdrive/My Drive/Cat images/ImageDataGenerator_images/'\n",
        "train_path = file_path + 'train'\n",
        "test_path = file_path + 'test'\n"
      ],
      "metadata": {
        "colab": {
          "base_uri": "https://localhost:8080/"
        },
        "id": "bmLXQ6XJG1ow",
        "outputId": "67fa2596-5ab0-4f18-8d68-ca1f333bc715"
      },
      "execution_count": 11,
      "outputs": [
        {
          "output_type": "stream",
          "name": "stdout",
          "text": [
            "Mounted at /content/gdrive\n"
          ]
        }
      ]
    },
    {
      "cell_type": "code",
      "source": [
        "image_gen.flow_from_directory(train_path)"
      ],
      "metadata": {
        "colab": {
          "base_uri": "https://localhost:8080/"
        },
        "id": "yivTbunRH4yw",
        "outputId": "60fd5d83-d588-46f4-9baa-7ef1b1aec6e7"
      },
      "execution_count": 12,
      "outputs": [
        {
          "output_type": "stream",
          "name": "stdout",
          "text": [
            "Found 300 images belonging to 2 classes.\n"
          ]
        },
        {
          "output_type": "execute_result",
          "data": {
            "text/plain": [
              "<keras.preprocessing.image.DirectoryIterator at 0x7b5313dda9e0>"
            ]
          },
          "metadata": {},
          "execution_count": 12
        }
      ]
    },
    {
      "cell_type": "code",
      "source": [
        "image_gen.flow_from_directory(test_path)"
      ],
      "metadata": {
        "colab": {
          "base_uri": "https://localhost:8080/"
        },
        "id": "tEgPW-n9IMW7",
        "outputId": "8840a6bd-3d72-488e-9116-27227dbbb395"
      },
      "execution_count": 13,
      "outputs": [
        {
          "output_type": "stream",
          "name": "stdout",
          "text": [
            "Found 130 images belonging to 2 classes.\n"
          ]
        },
        {
          "output_type": "execute_result",
          "data": {
            "text/plain": [
              "<keras.preprocessing.image.DirectoryIterator at 0x7b52f816df00>"
            ]
          },
          "metadata": {},
          "execution_count": 13
        }
      ]
    },
    {
      "cell_type": "code",
      "source": [
        "## Train the model, using early stopping\n",
        "from tensorflow.keras.callbacks import EarlyStopping\n",
        "\n",
        "early_stop = EarlyStopping(monitor='val_loss',patience=2)"
      ],
      "metadata": {
        "id": "cGIkdyI8Ic8p"
      },
      "execution_count": 42,
      "outputs": []
    },
    {
      "cell_type": "code",
      "execution_count": 15,
      "metadata": {
        "colab": {
          "base_uri": "https://localhost:8080/"
        },
        "id": "JAAOfVTFymF0",
        "outputId": "fed631c4-1f4b-4acd-c30b-d5688d8e6f48"
      },
      "outputs": [
        {
          "output_type": "stream",
          "name": "stdout",
          "text": [
            "Found 300 images belonging to 2 classes.\n"
          ]
        }
      ],
      "source": [
        "batch_size = 8\n",
        "train_image_gen = image_gen.flow_from_directory(train_path,\n",
        "                                               target_size=input_shape[:2],\n",
        "                                                color_mode='rgb',\n",
        "                                               batch_size=batch_size,\n",
        "                                               class_mode='binary')"
      ]
    },
    {
      "cell_type": "code",
      "source": [
        "test_image_gen = image_gen.flow_from_directory(test_path,\n",
        "                                               target_size=input_shape[:2],\n",
        "                                               color_mode='rgb',\n",
        "                                               batch_size=batch_size,\n",
        "                                               class_mode='binary',shuffle=False)"
      ],
      "metadata": {
        "colab": {
          "base_uri": "https://localhost:8080/"
        },
        "id": "gilAcyM6JFib",
        "outputId": "15fa644b-ac91-4572-8487-5f3dcff35f35"
      },
      "execution_count": 16,
      "outputs": [
        {
          "output_type": "stream",
          "name": "stdout",
          "text": [
            "Found 130 images belonging to 2 classes.\n"
          ]
        }
      ]
    },
    {
      "cell_type": "code",
      "source": [
        "train_image_gen.class_indices"
      ],
      "metadata": {
        "colab": {
          "base_uri": "https://localhost:8080/"
        },
        "id": "kXiLAUW_JSVv",
        "outputId": "fb2ea47e-871b-43c2-dd73-8b19a1447be7"
      },
      "execution_count": 17,
      "outputs": [
        {
          "output_type": "execute_result",
          "data": {
            "text/plain": [
              "{'0': 0, '1': 1}"
            ]
          },
          "metadata": {},
          "execution_count": 17
        }
      ]
    },
    {
      "cell_type": "code",
      "source": [
        "import warnings\n",
        "warnings.filterwarnings('ignore')"
      ],
      "metadata": {
        "id": "T2R9-kZfJYea"
      },
      "execution_count": 18,
      "outputs": []
    },
    {
      "cell_type": "code",
      "source": [
        "results = model.fit_generator(train_image_gen,epochs=20,\n",
        "                              validation_data=test_image_gen,\n",
        "                             callbacks=[early_stop])"
      ],
      "metadata": {
        "colab": {
          "base_uri": "https://localhost:8080/"
        },
        "id": "t5QEMHFdJaGh",
        "outputId": "84bbf72e-a007-4008-906c-9c9a0bd213ce"
      },
      "execution_count": 43,
      "outputs": [
        {
          "output_type": "stream",
          "name": "stdout",
          "text": [
            "Epoch 1/20\n",
            "38/38 [==============================] - 9s 188ms/step - loss: 0.7242 - accuracy: 0.6000 - val_loss: 0.7194 - val_accuracy: 0.5000\n",
            "Epoch 2/20\n",
            "38/38 [==============================] - 7s 180ms/step - loss: 0.5614 - accuracy: 0.6967 - val_loss: 0.7055 - val_accuracy: 0.4615\n",
            "Epoch 3/20\n",
            "38/38 [==============================] - 7s 182ms/step - loss: 0.4777 - accuracy: 0.6800 - val_loss: 0.7378 - val_accuracy: 0.5769\n",
            "Epoch 4/20\n",
            "38/38 [==============================] - 6s 159ms/step - loss: 0.4785 - accuracy: 0.7333 - val_loss: 0.7080 - val_accuracy: 0.5231\n"
          ]
        }
      ]
    },
    {
      "cell_type": "code",
      "source": [
        "## Evaluate the model\n",
        "import pandas as pd\n",
        "\n",
        "losses = pd.DataFrame(model.history.history)\n",
        "losses[['loss','val_loss']].plot()"
      ],
      "metadata": {
        "colab": {
          "base_uri": "https://localhost:8080/",
          "height": 451
        },
        "id": "YYTGdPhpKdvw",
        "outputId": "ef91c484-415b-4911-f90e-916a1522a57d"
      },
      "execution_count": 44,
      "outputs": [
        {
          "output_type": "execute_result",
          "data": {
            "text/plain": [
              "<Axes: >"
            ]
          },
          "metadata": {},
          "execution_count": 44
        },
        {
          "output_type": "display_data",
          "data": {
            "text/plain": [
              "<Figure size 640x480 with 1 Axes>"
            ],
            "image/png": "[encoded data removed]"
          },
          "metadata": {}
        }
      ]
    },
    {
      "cell_type": "code",
      "source": [
        "model.metrics_names"
      ],
      "metadata": {
        "colab": {
          "base_uri": "https://localhost:8080/"
        },
        "id": "vs5zHouUKvpz",
        "outputId": "12405493-10e7-43f8-c1be-9555af5a241d"
      },
      "execution_count": 21,
      "outputs": [
        {
          "output_type": "execute_result",
          "data": {
            "text/plain": [
              "['loss', 'accuracy']"
            ]
          },
          "metadata": {},
          "execution_count": 21
        }
      ]
    },
    {
      "cell_type": "code",
      "source": [
        "model.evaluate_generator(test_image_gen)"
      ],
      "metadata": {
        "colab": {
          "base_uri": "https://localhost:8080/"
        },
        "id": "rHoizEiRKx2s",
        "outputId": "c0ced46d-a47f-4a42-bde7-61a21ff975fb"
      },
      "execution_count": 22,
      "outputs": [
        {
          "output_type": "execute_result",
          "data": {
            "text/plain": [
              "[0.6931547522544861, 0.5]"
            ]
          },
          "metadata": {},
          "execution_count": 22
        }
      ]
    },
    {
      "cell_type": "code",
      "source": [
        "# https://datascience.stackexchange.com/questions/13894/how-to-get-predictions-with-predict-generator-on-streaming-test-data-in-keras\n",
        "pred_probabilities = model.predict_generator(test_image_gen)"
      ],
      "metadata": {
        "id": "Hn6KQq3lLKZt"
      },
      "execution_count": 45,
      "outputs": []
    },
    {
      "cell_type": "code",
      "source": [
        "pred_probabilities"
      ],
      "metadata": {
        "colab": {
          "base_uri": "https://localhost:8080/"
        },
        "id": "cJheLNpZLNpK",
        "outputId": "90eb6cd5-b9c6-45aa-b6da-06711b198d41"
      },
      "execution_count": 36,
      "outputs": [
        {
          "output_type": "execute_result",
          "data": {
            "text/plain": [
              "array([[0.05990257],\n",
              "       [0.247395  ],\n",
              "       [0.3533996 ],\n",
              "       [0.41217473],\n",
              "       [0.0702587 ],\n",
              "       [0.0701856 ],\n",
              "       [0.02475453],\n",
              "       [0.06754469],\n",
              "       [0.04975602],\n",
              "       [0.31450528],\n",
              "       [0.50565773],\n",
              "       [0.1079555 ],\n",
              "       [0.19460325],\n",
              "       [0.07004804],\n",
              "       [0.18836977],\n",
              "       [0.10373468],\n",
              "       [0.20085362],\n",
              "       [0.4101658 ],\n",
              "       [0.26440388],\n",
              "       [0.02441247],\n",
              "       [0.02287542],\n",
              "       [0.06985386],\n",
              "       [0.10412183],\n",
              "       [0.05786245],\n",
              "       [0.40917116],\n",
              "       [0.03781562],\n",
              "       [0.0367459 ],\n",
              "       [0.17119338],\n",
              "       [0.2238496 ],\n",
              "       [0.24162146],\n",
              "       [0.01128547],\n",
              "       [0.07755368],\n",
              "       [0.03155418],\n",
              "       [0.04810744],\n",
              "       [0.09761908],\n",
              "       [0.03201063],\n",
              "       [0.06226147],\n",
              "       [0.14267895],\n",
              "       [0.03566704],\n",
              "       [0.00872139],\n",
              "       [0.00414567],\n",
              "       [0.0043764 ],\n",
              "       [0.0088655 ],\n",
              "       [0.14285414],\n",
              "       [0.0191258 ],\n",
              "       [0.0791278 ],\n",
              "       [0.01344959],\n",
              "       [0.09756209],\n",
              "       [0.01248042],\n",
              "       [0.04311201],\n",
              "       [0.05279626],\n",
              "       [0.04409024],\n",
              "       [0.03357985],\n",
              "       [0.6495748 ],\n",
              "       [0.8332069 ],\n",
              "       [0.01288198],\n",
              "       [0.6152146 ],\n",
              "       [0.65391994],\n",
              "       [0.01850341],\n",
              "       [0.01676261],\n",
              "       [0.02201881],\n",
              "       [0.08924247],\n",
              "       [0.04177095],\n",
              "       [0.1086253 ],\n",
              "       [0.06849328],\n",
              "       [0.10586045],\n",
              "       [0.09269343],\n",
              "       [0.08345947],\n",
              "       [0.06242632],\n",
              "       [0.14514321],\n",
              "       [0.02654278],\n",
              "       [0.03500859],\n",
              "       [0.16677281],\n",
              "       [0.03633642],\n",
              "       [0.06734775],\n",
              "       [0.17762843],\n",
              "       [0.05512339],\n",
              "       [0.29796064],\n",
              "       [0.16355737],\n",
              "       [0.01889813],\n",
              "       [0.02890669],\n",
              "       [0.03513864],\n",
              "       [0.24866933],\n",
              "       [0.16458175],\n",
              "       [0.38477042],\n",
              "       [0.05692664],\n",
              "       [0.06928242],\n",
              "       [0.03394841],\n",
              "       [0.12251548],\n",
              "       [0.32006273],\n",
              "       [0.43377283],\n",
              "       [0.14482236],\n",
              "       [0.02920905],\n",
              "       [0.00614207],\n",
              "       [0.16171141],\n",
              "       [0.9229458 ],\n",
              "       [0.5678058 ],\n",
              "       [0.38263708],\n",
              "       [0.03677582],\n",
              "       [0.1497132 ],\n",
              "       [0.02057408],\n",
              "       [0.0343849 ],\n",
              "       [0.01195627],\n",
              "       [0.05004331],\n",
              "       [0.0621303 ],\n",
              "       [0.07672218],\n",
              "       [0.12911807],\n",
              "       [0.11795584],\n",
              "       [0.34908473],\n",
              "       [0.05205815],\n",
              "       [0.11869972],\n",
              "       [0.09172612],\n",
              "       [0.07624162],\n",
              "       [0.02911497],\n",
              "       [0.47656697],\n",
              "       [0.19810289],\n",
              "       [0.02449373],\n",
              "       [0.16441801],\n",
              "       [0.06684161],\n",
              "       [0.30826926],\n",
              "       [0.07587832],\n",
              "       [0.08081173],\n",
              "       [0.05569711],\n",
              "       [0.08839807],\n",
              "       [0.204109  ],\n",
              "       [0.27122393],\n",
              "       [0.06005986],\n",
              "       [0.11414435],\n",
              "       [0.42143592],\n",
              "       [0.09494136]], dtype=float32)"
            ]
          },
          "metadata": {},
          "execution_count": 36
        }
      ]
    },
    {
      "cell_type": "code",
      "source": [
        "test_image_gen.classes"
      ],
      "metadata": {
        "colab": {
          "base_uri": "https://localhost:8080/"
        },
        "id": "PpmjyPCcLVXF",
        "outputId": "2886eeb0-6162-4596-c196-38eabc050615"
      },
      "execution_count": 25,
      "outputs": [
        {
          "output_type": "execute_result",
          "data": {
            "text/plain": [
              "array([0, 0, 0, 0, 0, 0, 0, 0, 0, 0, 0, 0, 0, 0, 0, 0, 0, 0, 0, 0, 0, 0,\n",
              "       0, 0, 0, 0, 0, 0, 0, 0, 0, 0, 0, 0, 0, 0, 0, 0, 0, 0, 0, 0, 0, 0,\n",
              "       0, 0, 0, 0, 0, 0, 0, 0, 0, 0, 0, 0, 0, 0, 0, 0, 0, 0, 0, 0, 0, 1,\n",
              "       1, 1, 1, 1, 1, 1, 1, 1, 1, 1, 1, 1, 1, 1, 1, 1, 1, 1, 1, 1, 1, 1,\n",
              "       1, 1, 1, 1, 1, 1, 1, 1, 1, 1, 1, 1, 1, 1, 1, 1, 1, 1, 1, 1, 1, 1,\n",
              "       1, 1, 1, 1, 1, 1, 1, 1, 1, 1, 1, 1, 1, 1, 1, 1, 1, 1, 1, 1],\n",
              "      dtype=int32)"
            ]
          },
          "metadata": {},
          "execution_count": 25
        }
      ]
    },
    {
      "cell_type": "code",
      "source": [
        "predictions = pred_probabilities > 0.5"
      ],
      "metadata": {
        "id": "f_EMRA9HLZ2K"
      },
      "execution_count": 46,
      "outputs": []
    },
    {
      "cell_type": "code",
      "source": [
        "predictions"
      ],
      "metadata": {
        "colab": {
          "base_uri": "https://localhost:8080/"
        },
        "id": "Wp1sB-JZLgZd",
        "outputId": "f9c6043e-401b-48dd-df6d-f148d9630af2"
      },
      "execution_count": 38,
      "outputs": [
        {
          "output_type": "execute_result",
          "data": {
            "text/plain": [
              "array([[False],\n",
              "       [False],\n",
              "       [False],\n",
              "       [False],\n",
              "       [False],\n",
              "       [False],\n",
              "       [False],\n",
              "       [False],\n",
              "       [False],\n",
              "       [False],\n",
              "       [ True],\n",
              "       [False],\n",
              "       [False],\n",
              "       [False],\n",
              "       [False],\n",
              "       [False],\n",
              "       [False],\n",
              "       [False],\n",
              "       [False],\n",
              "       [False],\n",
              "       [False],\n",
              "       [False],\n",
              "       [False],\n",
              "       [False],\n",
              "       [False],\n",
              "       [False],\n",
              "       [False],\n",
              "       [False],\n",
              "       [False],\n",
              "       [False],\n",
              "       [False],\n",
              "       [False],\n",
              "       [False],\n",
              "       [False],\n",
              "       [False],\n",
              "       [False],\n",
              "       [False],\n",
              "       [False],\n",
              "       [False],\n",
              "       [False],\n",
              "       [False],\n",
              "       [False],\n",
              "       [False],\n",
              "       [False],\n",
              "       [False],\n",
              "       [False],\n",
              "       [False],\n",
              "       [False],\n",
              "       [False],\n",
              "       [False],\n",
              "       [False],\n",
              "       [False],\n",
              "       [False],\n",
              "       [ True],\n",
              "       [ True],\n",
              "       [False],\n",
              "       [ True],\n",
              "       [ True],\n",
              "       [False],\n",
              "       [False],\n",
              "       [False],\n",
              "       [False],\n",
              "       [False],\n",
              "       [False],\n",
              "       [False],\n",
              "       [False],\n",
              "       [False],\n",
              "       [False],\n",
              "       [False],\n",
              "       [False],\n",
              "       [False],\n",
              "       [False],\n",
              "       [False],\n",
              "       [False],\n",
              "       [False],\n",
              "       [False],\n",
              "       [False],\n",
              "       [False],\n",
              "       [False],\n",
              "       [False],\n",
              "       [False],\n",
              "       [False],\n",
              "       [False],\n",
              "       [False],\n",
              "       [False],\n",
              "       [False],\n",
              "       [False],\n",
              "       [False],\n",
              "       [False],\n",
              "       [False],\n",
              "       [False],\n",
              "       [False],\n",
              "       [False],\n",
              "       [False],\n",
              "       [False],\n",
              "       [ True],\n",
              "       [ True],\n",
              "       [False],\n",
              "       [False],\n",
              "       [False],\n",
              "       [False],\n",
              "       [False],\n",
              "       [False],\n",
              "       [False],\n",
              "       [False],\n",
              "       [False],\n",
              "       [False],\n",
              "       [False],\n",
              "       [False],\n",
              "       [False],\n",
              "       [False],\n",
              "       [False],\n",
              "       [False],\n",
              "       [False],\n",
              "       [False],\n",
              "       [False],\n",
              "       [False],\n",
              "       [False],\n",
              "       [False],\n",
              "       [False],\n",
              "       [False],\n",
              "       [False],\n",
              "       [False],\n",
              "       [False],\n",
              "       [False],\n",
              "       [False],\n",
              "       [False],\n",
              "       [False],\n",
              "       [False],\n",
              "       [False]])"
            ]
          },
          "metadata": {},
          "execution_count": 38
        }
      ]
    },
    {
      "cell_type": "code",
      "source": [
        "from sklearn.metrics import classification_report,confusion_matrix"
      ],
      "metadata": {
        "id": "HXJgCBI3LmnX"
      },
      "execution_count": 28,
      "outputs": []
    },
    {
      "cell_type": "code",
      "source": [
        "print(classification_report(test_image_gen.classes,predictions))"
      ],
      "metadata": {
        "colab": {
          "base_uri": "https://localhost:8080/"
        },
        "id": "VyKPl7TmLqS9",
        "outputId": "bc1c1ea3-7ca6-4ffc-8b7d-a412a37cd02d"
      },
      "execution_count": 47,
      "outputs": [
        {
          "output_type": "stream",
          "name": "stdout",
          "text": [
            "              precision    recall  f1-score   support\n",
            "\n",
            "           0       0.46      0.55      0.50        65\n",
            "           1       0.44      0.35      0.39        65\n",
            "\n",
            "    accuracy                           0.45       130\n",
            "   macro avg       0.45      0.45      0.45       130\n",
            "weighted avg       0.45      0.45      0.45       130\n",
            "\n"
          ]
        }
      ]
    },
    {
      "cell_type": "code",
      "source": [
        "confusion_matrix(test_image_gen.classes,predictions)"
      ],
      "metadata": {
        "colab": {
          "base_uri": "https://localhost:8080/"
        },
        "id": "FMF8VPX5LzCI",
        "outputId": "092bd521-40f3-4bda-aead-6a1714ea7692"
      },
      "execution_count": 48,
      "outputs": [
        {
          "output_type": "execute_result",
          "data": {
            "text/plain": [
              "array([[36, 29],\n",
              "       [42, 23]])"
            ]
          },
          "metadata": {},
          "execution_count": 48
        }
      ]
    }
  ]
}